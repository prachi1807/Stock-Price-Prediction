{
 "cells": [
  {
   "cell_type": "code",
   "execution_count": 5,
   "id": "civic-poultry",
   "metadata": {},
   "outputs": [
    {
     "name": "stdout",
     "output_type": "stream",
     "text": [
      "Import Successful\n"
     ]
    }
   ],
   "source": [
    "import numpy as np\n",
    "import matplotlib.pyplot as plt\n",
    "import pandas as pd\n",
    "from sklearn.preprocessing import MinMaxScaler\n",
    "print(\"Import Successful\")"
   ]
  },
  {
   "cell_type": "code",
   "execution_count": 6,
   "id": "mental-warren",
   "metadata": {},
   "outputs": [
    {
     "data": {
      "text/html": [
       "<div>\n",
       "<style scoped>\n",
       "    .dataframe tbody tr th:only-of-type {\n",
       "        vertical-align: middle;\n",
       "    }\n",
       "\n",
       "    .dataframe tbody tr th {\n",
       "        vertical-align: top;\n",
       "    }\n",
       "\n",
       "    .dataframe thead th {\n",
       "        text-align: right;\n",
       "    }\n",
       "</style>\n",
       "<table border=\"1\" class=\"dataframe\">\n",
       "  <thead>\n",
       "    <tr style=\"text-align: right;\">\n",
       "      <th></th>\n",
       "      <th>Date</th>\n",
       "      <th>Open</th>\n",
       "      <th>High</th>\n",
       "      <th>Low</th>\n",
       "      <th>Close</th>\n",
       "      <th>Adj Close</th>\n",
       "      <th>Volume</th>\n",
       "    </tr>\n",
       "  </thead>\n",
       "  <tbody>\n",
       "    <tr>\n",
       "      <th>4199</th>\n",
       "      <td>2021-04-26</td>\n",
       "      <td>2319.929932</td>\n",
       "      <td>2341.260010</td>\n",
       "      <td>2313.840088</td>\n",
       "      <td>2326.739990</td>\n",
       "      <td>2326.739990</td>\n",
       "      <td>1041700</td>\n",
       "    </tr>\n",
       "    <tr>\n",
       "      <th>4200</th>\n",
       "      <td>2021-04-27</td>\n",
       "      <td>2336.000000</td>\n",
       "      <td>2337.449951</td>\n",
       "      <td>2304.270020</td>\n",
       "      <td>2307.120117</td>\n",
       "      <td>2307.120117</td>\n",
       "      <td>1598600</td>\n",
       "    </tr>\n",
       "    <tr>\n",
       "      <th>4201</th>\n",
       "      <td>2021-04-28</td>\n",
       "      <td>2407.145020</td>\n",
       "      <td>2452.377930</td>\n",
       "      <td>2374.850098</td>\n",
       "      <td>2379.909912</td>\n",
       "      <td>2379.909912</td>\n",
       "      <td>2986400</td>\n",
       "    </tr>\n",
       "    <tr>\n",
       "      <th>4202</th>\n",
       "      <td>2021-04-29</td>\n",
       "      <td>2410.330078</td>\n",
       "      <td>2436.520020</td>\n",
       "      <td>2402.280029</td>\n",
       "      <td>2429.889893</td>\n",
       "      <td>2429.889893</td>\n",
       "      <td>1977700</td>\n",
       "    </tr>\n",
       "    <tr>\n",
       "      <th>4203</th>\n",
       "      <td>2021-04-30</td>\n",
       "      <td>2404.489990</td>\n",
       "      <td>2427.139893</td>\n",
       "      <td>2402.159912</td>\n",
       "      <td>2410.120117</td>\n",
       "      <td>2410.120117</td>\n",
       "      <td>1956700</td>\n",
       "    </tr>\n",
       "  </tbody>\n",
       "</table>\n",
       "</div>"
      ],
      "text/plain": [
       "            Date         Open         High          Low        Close  \\\n",
       "4199  2021-04-26  2319.929932  2341.260010  2313.840088  2326.739990   \n",
       "4200  2021-04-27  2336.000000  2337.449951  2304.270020  2307.120117   \n",
       "4201  2021-04-28  2407.145020  2452.377930  2374.850098  2379.909912   \n",
       "4202  2021-04-29  2410.330078  2436.520020  2402.280029  2429.889893   \n",
       "4203  2021-04-30  2404.489990  2427.139893  2402.159912  2410.120117   \n",
       "\n",
       "        Adj Close   Volume  \n",
       "4199  2326.739990  1041700  \n",
       "4200  2307.120117  1598600  \n",
       "4201  2379.909912  2986400  \n",
       "4202  2429.889893  1977700  \n",
       "4203  2410.120117  1956700  "
      ]
     },
     "execution_count": 6,
     "metadata": {},
     "output_type": "execute_result"
    }
   ],
   "source": [
    "data = pd.read_csv(\"GOOG.csv\", date_parser = True)\n",
    "data.tail()"
   ]
  },
  {
   "cell_type": "code",
   "execution_count": 7,
   "id": "another-google",
   "metadata": {},
   "outputs": [],
   "source": [
    "data_training = data[data[\"Date\"]<\"2019-01-01\"].copy()\n",
    "data_test = data[data[\"Date\"]>=\"2019-01-01\"].copy()"
   ]
  },
  {
   "cell_type": "code",
   "execution_count": 8,
   "id": "introductory-virgin",
   "metadata": {},
   "outputs": [],
   "source": [
    "data_training = data_training.drop([\"Date\", \"Adj Close\"], axis = 1)"
   ]
  },
  {
   "cell_type": "code",
   "execution_count": 10,
   "id": "gothic-knife",
   "metadata": {},
   "outputs": [
    {
     "data": {
      "text/plain": [
       "array([[3.30298164e-04, 9.44785459e-04, 0.00000000e+00, 1.34908021e-04,\n",
       "        5.43577158e-01],\n",
       "       [7.42148227e-04, 2.98909923e-03, 1.88269054e-03, 3.39307537e-03,\n",
       "        2.77885876e-01],\n",
       "       [4.71386886e-03, 4.78092896e-03, 5.42828241e-03, 3.83867225e-03,\n",
       "        2.22151352e-01],\n",
       "       ...,\n",
       "       [7.92197108e-01, 8.11970141e-01, 7.90196475e-01, 8.15799920e-01,\n",
       "        2.54669035e-02],\n",
       "       [8.18777193e-01, 8.21510648e-01, 8.20249255e-01, 8.10219301e-01,\n",
       "        1.70461017e-02],\n",
       "       [8.19874096e-01, 8.19172449e-01, 8.12332341e-01, 8.09012935e-01,\n",
       "        1.79972283e-02]])"
      ]
     },
     "execution_count": 10,
     "metadata": {},
     "output_type": "execute_result"
    }
   ],
   "source": [
    "scaler = MinMaxScaler()\n",
    "data_training = scaler.fit_transform(data_training)\n",
    "data_training"
   ]
  },
  {
   "cell_type": "code",
   "execution_count": 11,
   "id": "diagnostic-hawaiian",
   "metadata": {},
   "outputs": [],
   "source": [
    "X_train = []\n",
    "y_train = []\n",
    "\n",
    "for i in range(60, data_training.shape[0]):\n",
    "    X_train.append(data_training[i-60:i])\n",
    "    y_train.append(data_training[i,0])\n",
    "    \n",
    "X_train, y_train = np.array(X_train), np.array(y_train)"
   ]
  },
  {
   "cell_type": "code",
   "execution_count": 12,
   "id": "empty-parish",
   "metadata": {},
   "outputs": [
    {
     "data": {
      "text/plain": [
       "(3557, 60, 5)"
      ]
     },
     "execution_count": 12,
     "metadata": {},
     "output_type": "execute_result"
    }
   ],
   "source": [
    "X_train.shape"
   ]
  },
  {
   "cell_type": "code",
   "execution_count": 13,
   "id": "processed-japanese",
   "metadata": {},
   "outputs": [
    {
     "name": "stdout",
     "output_type": "stream",
     "text": [
      "Import Success!\n"
     ]
    }
   ],
   "source": [
    "from tensorflow.keras import Sequential\n",
    "from tensorflow.keras.layers import Dense, LSTM, Dropout\n",
    "print(\"Import Success!\")"
   ]
  },
  {
   "cell_type": "code",
   "execution_count": 14,
   "id": "mexican-inflation",
   "metadata": {},
   "outputs": [],
   "source": [
    "regressor = Sequential()\n",
    "\n",
    "regressor.add(LSTM(units = 60, activation = 'relu', return_sequences = True, input_shape = (X_train.shape[1], 5)))\n",
    "regressor.add(Dropout(0.2))\n",
    "\n",
    "regressor.add(LSTM(units = 60, activation = 'relu', return_sequences = True))\n",
    "regressor.add(Dropout(0.2))\n",
    "\n",
    "regressor.add(LSTM(units = 80, activation = 'relu', return_sequences = True))\n",
    "regressor.add(Dropout(0.2))\n",
    "\n",
    "regressor.add(LSTM(units = 120, activation = 'relu'))\n",
    "regressor.add(Dropout(0.2))\n",
    "\n",
    "regressor.add(Dense(units = 1))"
   ]
  },
  {
   "cell_type": "code",
   "execution_count": 15,
   "id": "together-video",
   "metadata": {},
   "outputs": [
    {
     "name": "stdout",
     "output_type": "stream",
     "text": [
      "Model: \"sequential_1\"\n",
      "_________________________________________________________________\n",
      "Layer (type)                 Output Shape              Param #   \n",
      "=================================================================\n",
      "lstm (LSTM)                  (None, 60, 60)            15840     \n",
      "_________________________________________________________________\n",
      "dropout (Dropout)            (None, 60, 60)            0         \n",
      "_________________________________________________________________\n",
      "lstm_1 (LSTM)                (None, 60, 60)            29040     \n",
      "_________________________________________________________________\n",
      "dropout_1 (Dropout)          (None, 60, 60)            0         \n",
      "_________________________________________________________________\n",
      "lstm_2 (LSTM)                (None, 60, 80)            45120     \n",
      "_________________________________________________________________\n",
      "dropout_2 (Dropout)          (None, 60, 80)            0         \n",
      "_________________________________________________________________\n",
      "lstm_3 (LSTM)                (None, 120)               96480     \n",
      "_________________________________________________________________\n",
      "dropout_3 (Dropout)          (None, 120)               0         \n",
      "_________________________________________________________________\n",
      "dense (Dense)                (None, 1)                 121       \n",
      "=================================================================\n",
      "Total params: 186,601\n",
      "Trainable params: 186,601\n",
      "Non-trainable params: 0\n",
      "_________________________________________________________________\n"
     ]
    }
   ],
   "source": [
    "regressor.summary()"
   ]
  },
  {
   "cell_type": "code",
   "execution_count": 16,
   "id": "thorough-pakistan",
   "metadata": {},
   "outputs": [
    {
     "name": "stdout",
     "output_type": "stream",
     "text": [
      "Epoch 1/50\n",
      "112/112 [==============================] - 26s 146ms/step - loss: 0.0159\n",
      "Epoch 2/50\n",
      "112/112 [==============================] - 16s 145ms/step - loss: 0.0021\n",
      "Epoch 3/50\n",
      "112/112 [==============================] - 16s 142ms/step - loss: 0.0017\n",
      "Epoch 4/50\n",
      "112/112 [==============================] - 16s 142ms/step - loss: 0.0018\n",
      "Epoch 5/50\n",
      "112/112 [==============================] - 16s 147ms/step - loss: 0.0019\n",
      "Epoch 6/50\n",
      "112/112 [==============================] - 16s 145ms/step - loss: 0.0016\n",
      "Epoch 7/50\n",
      "112/112 [==============================] - 16s 140ms/step - loss: 0.0014\n",
      "Epoch 8/50\n",
      "112/112 [==============================] - 16s 141ms/step - loss: 0.0014\n",
      "Epoch 9/50\n",
      "112/112 [==============================] - 16s 140ms/step - loss: 0.0014\n",
      "Epoch 10/50\n",
      "112/112 [==============================] - 16s 138ms/step - loss: 0.0015\n",
      "Epoch 11/50\n",
      "112/112 [==============================] - 16s 143ms/step - loss: 0.0012\n",
      "Epoch 12/50\n",
      "112/112 [==============================] - 16s 142ms/step - loss: 0.0011\n",
      "Epoch 13/50\n",
      "112/112 [==============================] - 16s 139ms/step - loss: 0.0012\n",
      "Epoch 14/50\n",
      "112/112 [==============================] - 16s 139ms/step - loss: 0.0015\n",
      "Epoch 15/50\n",
      "112/112 [==============================] - 16s 142ms/step - loss: 0.0013\n",
      "Epoch 16/50\n",
      "112/112 [==============================] - 16s 145ms/step - loss: 0.0011\n",
      "Epoch 17/50\n",
      "112/112 [==============================] - 16s 139ms/step - loss: 9.5207e-04\n",
      "Epoch 18/50\n",
      "112/112 [==============================] - 16s 141ms/step - loss: 9.8898e-04\n",
      "Epoch 19/50\n",
      "112/112 [==============================] - 15s 138ms/step - loss: 9.2113e-04\n",
      "Epoch 20/50\n",
      "112/112 [==============================] - 15s 138ms/step - loss: 0.0010\n",
      "Epoch 21/50\n",
      "112/112 [==============================] - 15s 138ms/step - loss: 8.8801e-04\n",
      "Epoch 22/50\n",
      "112/112 [==============================] - 15s 138ms/step - loss: 9.0651e-04\n",
      "Epoch 23/50\n",
      "112/112 [==============================] - 15s 138ms/step - loss: 8.4402e-04\n",
      "Epoch 24/50\n",
      "112/112 [==============================] - 15s 137ms/step - loss: 8.6186e-04\n",
      "Epoch 25/50\n",
      "112/112 [==============================] - 15s 137ms/step - loss: 8.3142e-04\n",
      "Epoch 26/50\n",
      "112/112 [==============================] - 16s 140ms/step - loss: 7.3582e-04\n",
      "Epoch 27/50\n",
      "112/112 [==============================] - 15s 137ms/step - loss: 7.9633e-04\n",
      "Epoch 28/50\n",
      "112/112 [==============================] - 15s 138ms/step - loss: 7.6244e-04\n",
      "Epoch 29/50\n",
      "112/112 [==============================] - 15s 137ms/step - loss: 8.0900e-04\n",
      "Epoch 30/50\n",
      "112/112 [==============================] - 15s 137ms/step - loss: 7.3246e-04\n",
      "Epoch 31/50\n",
      "112/112 [==============================] - 16s 139ms/step - loss: 7.4963e-04\n",
      "Epoch 32/50\n",
      "112/112 [==============================] - 16s 139ms/step - loss: 8.4257e-04\n",
      "Epoch 33/50\n",
      "112/112 [==============================] - 17s 156ms/step - loss: 7.8021e-04\n",
      "Epoch 34/50\n",
      "112/112 [==============================] - 17s 155ms/step - loss: 6.8916e-04\n",
      "Epoch 35/50\n",
      "112/112 [==============================] - 17s 156ms/step - loss: 6.1925e-04\n",
      "Epoch 36/50\n",
      "112/112 [==============================] - 21s 184ms/step - loss: 6.4054e-0414s - loss\n",
      "Epoch 37/50\n",
      "112/112 [==============================] - 18s 163ms/step - loss: 6.0995e-04\n",
      "Epoch 38/50\n",
      "112/112 [==============================] - 16s 142ms/step - loss: 6.3015e-04\n",
      "Epoch 39/50\n",
      "112/112 [==============================] - 16s 139ms/step - loss: 6.3533e-04\n",
      "Epoch 40/50\n",
      "112/112 [==============================] - 16s 140ms/step - loss: 6.3119e-04\n",
      "Epoch 41/50\n",
      "112/112 [==============================] - 16s 139ms/step - loss: 6.6485e-04\n",
      "Epoch 42/50\n",
      "112/112 [==============================] - 15s 137ms/step - loss: 6.2858e-04\n",
      "Epoch 43/50\n",
      "112/112 [==============================] - 16s 146ms/step - loss: 7.0280e-04\n",
      "Epoch 44/50\n",
      "112/112 [==============================] - 18s 162ms/step - loss: 6.1133e-04\n",
      "Epoch 45/50\n",
      "112/112 [==============================] - 18s 157ms/step - loss: 6.8019e-04\n",
      "Epoch 46/50\n",
      "112/112 [==============================] - 17s 148ms/step - loss: 6.7801e-04\n",
      "Epoch 47/50\n",
      "112/112 [==============================] - 17s 150ms/step - loss: 5.9524e-04\n",
      "Epoch 48/50\n",
      "112/112 [==============================] - 17s 154ms/step - loss: 6.0026e-04\n",
      "Epoch 49/50\n",
      "112/112 [==============================] - 15s 138ms/step - loss: 6.5690e-04\n",
      "Epoch 50/50\n",
      "112/112 [==============================] - 15s 137ms/step - loss: 6.4185e-04\n"
     ]
    },
    {
     "data": {
      "text/plain": [
       "<tensorflow.python.keras.callbacks.History at 0x1d68bb92490>"
      ]
     },
     "execution_count": 16,
     "metadata": {},
     "output_type": "execute_result"
    }
   ],
   "source": [
    "regressor.compile(optimizer='adam', loss = 'mean_squared_error')\n",
    "regressor.fit(X_train, y_train, epochs=50, batch_size=32)"
   ]
  },
  {
   "cell_type": "code",
   "execution_count": 17,
   "id": "saving-carter",
   "metadata": {},
   "outputs": [
    {
     "data": {
      "text/html": [
       "<div>\n",
       "<style scoped>\n",
       "    .dataframe tbody tr th:only-of-type {\n",
       "        vertical-align: middle;\n",
       "    }\n",
       "\n",
       "    .dataframe tbody tr th {\n",
       "        vertical-align: top;\n",
       "    }\n",
       "\n",
       "    .dataframe thead th {\n",
       "        text-align: right;\n",
       "    }\n",
       "</style>\n",
       "<table border=\"1\" class=\"dataframe\">\n",
       "  <thead>\n",
       "    <tr style=\"text-align: right;\">\n",
       "      <th></th>\n",
       "      <th>Date</th>\n",
       "      <th>Open</th>\n",
       "      <th>High</th>\n",
       "      <th>Low</th>\n",
       "      <th>Close</th>\n",
       "      <th>Adj Close</th>\n",
       "      <th>Volume</th>\n",
       "    </tr>\n",
       "  </thead>\n",
       "  <tbody>\n",
       "    <tr>\n",
       "      <th>3617</th>\n",
       "      <td>2019-01-02</td>\n",
       "      <td>1016.570007</td>\n",
       "      <td>1052.319946</td>\n",
       "      <td>1015.710022</td>\n",
       "      <td>1045.849976</td>\n",
       "      <td>1045.849976</td>\n",
       "      <td>1532600</td>\n",
       "    </tr>\n",
       "    <tr>\n",
       "      <th>3618</th>\n",
       "      <td>2019-01-03</td>\n",
       "      <td>1041.000000</td>\n",
       "      <td>1056.979980</td>\n",
       "      <td>1014.070007</td>\n",
       "      <td>1016.059998</td>\n",
       "      <td>1016.059998</td>\n",
       "      <td>1841100</td>\n",
       "    </tr>\n",
       "    <tr>\n",
       "      <th>3619</th>\n",
       "      <td>2019-01-04</td>\n",
       "      <td>1032.589966</td>\n",
       "      <td>1070.839966</td>\n",
       "      <td>1027.417969</td>\n",
       "      <td>1070.709961</td>\n",
       "      <td>1070.709961</td>\n",
       "      <td>2093900</td>\n",
       "    </tr>\n",
       "    <tr>\n",
       "      <th>3620</th>\n",
       "      <td>2019-01-07</td>\n",
       "      <td>1071.500000</td>\n",
       "      <td>1074.000000</td>\n",
       "      <td>1054.760010</td>\n",
       "      <td>1068.390015</td>\n",
       "      <td>1068.390015</td>\n",
       "      <td>1981900</td>\n",
       "    </tr>\n",
       "    <tr>\n",
       "      <th>3621</th>\n",
       "      <td>2019-01-08</td>\n",
       "      <td>1076.109985</td>\n",
       "      <td>1084.560059</td>\n",
       "      <td>1060.530029</td>\n",
       "      <td>1076.280029</td>\n",
       "      <td>1076.280029</td>\n",
       "      <td>1764900</td>\n",
       "    </tr>\n",
       "  </tbody>\n",
       "</table>\n",
       "</div>"
      ],
      "text/plain": [
       "            Date         Open         High          Low        Close  \\\n",
       "3617  2019-01-02  1016.570007  1052.319946  1015.710022  1045.849976   \n",
       "3618  2019-01-03  1041.000000  1056.979980  1014.070007  1016.059998   \n",
       "3619  2019-01-04  1032.589966  1070.839966  1027.417969  1070.709961   \n",
       "3620  2019-01-07  1071.500000  1074.000000  1054.760010  1068.390015   \n",
       "3621  2019-01-08  1076.109985  1084.560059  1060.530029  1076.280029   \n",
       "\n",
       "        Adj Close   Volume  \n",
       "3617  1045.849976  1532600  \n",
       "3618  1016.059998  1841100  \n",
       "3619  1070.709961  2093900  \n",
       "3620  1068.390015  1981900  \n",
       "3621  1076.280029  1764900  "
      ]
     },
     "execution_count": 17,
     "metadata": {},
     "output_type": "execute_result"
    }
   ],
   "source": [
    "data_test.head()"
   ]
  },
  {
   "cell_type": "code",
   "execution_count": 19,
   "id": "funded-dispatch",
   "metadata": {},
   "outputs": [],
   "source": [
    "past_60_days = data_test.tail(60)"
   ]
  },
  {
   "cell_type": "code",
   "execution_count": 20,
   "id": "precious-perth",
   "metadata": {},
   "outputs": [
    {
     "data": {
      "text/html": [
       "<div>\n",
       "<style scoped>\n",
       "    .dataframe tbody tr th:only-of-type {\n",
       "        vertical-align: middle;\n",
       "    }\n",
       "\n",
       "    .dataframe tbody tr th {\n",
       "        vertical-align: top;\n",
       "    }\n",
       "\n",
       "    .dataframe thead th {\n",
       "        text-align: right;\n",
       "    }\n",
       "</style>\n",
       "<table border=\"1\" class=\"dataframe\">\n",
       "  <thead>\n",
       "    <tr style=\"text-align: right;\">\n",
       "      <th></th>\n",
       "      <th>Open</th>\n",
       "      <th>High</th>\n",
       "      <th>Low</th>\n",
       "      <th>Close</th>\n",
       "      <th>Volume</th>\n",
       "    </tr>\n",
       "  </thead>\n",
       "  <tbody>\n",
       "    <tr>\n",
       "      <th>0</th>\n",
       "      <td>2068.889893</td>\n",
       "      <td>2078.550049</td>\n",
       "      <td>2042.589966</td>\n",
       "      <td>2062.370117</td>\n",
       "      <td>1852300</td>\n",
       "    </tr>\n",
       "    <tr>\n",
       "      <th>1</th>\n",
       "      <td>2070.000000</td>\n",
       "      <td>2102.510010</td>\n",
       "      <td>2059.330078</td>\n",
       "      <td>2098.000000</td>\n",
       "      <td>1533900</td>\n",
       "    </tr>\n",
       "    <tr>\n",
       "      <th>2</th>\n",
       "      <td>2105.909912</td>\n",
       "      <td>2123.547119</td>\n",
       "      <td>2072.000000</td>\n",
       "      <td>2092.909912</td>\n",
       "      <td>1241900</td>\n",
       "    </tr>\n",
       "    <tr>\n",
       "      <th>3</th>\n",
       "      <td>2078.540039</td>\n",
       "      <td>2105.129883</td>\n",
       "      <td>2078.540039</td>\n",
       "      <td>2083.510010</td>\n",
       "      <td>889900</td>\n",
       "    </tr>\n",
       "    <tr>\n",
       "      <th>4</th>\n",
       "      <td>2094.209961</td>\n",
       "      <td>2108.370117</td>\n",
       "      <td>2063.090088</td>\n",
       "      <td>2095.379883</td>\n",
       "      <td>1135500</td>\n",
       "    </tr>\n",
       "  </tbody>\n",
       "</table>\n",
       "</div>"
      ],
      "text/plain": [
       "          Open         High          Low        Close   Volume\n",
       "0  2068.889893  2078.550049  2042.589966  2062.370117  1852300\n",
       "1  2070.000000  2102.510010  2059.330078  2098.000000  1533900\n",
       "2  2105.909912  2123.547119  2072.000000  2092.909912  1241900\n",
       "3  2078.540039  2105.129883  2078.540039  2083.510010   889900\n",
       "4  2094.209961  2108.370117  2063.090088  2095.379883  1135500"
      ]
     },
     "execution_count": 20,
     "metadata": {},
     "output_type": "execute_result"
    }
   ],
   "source": [
    "df = past_60_days.append(data_test, ignore_index = True)\n",
    "df = df.drop([\"Date\", \"Adj Close\"], axis = 1)\n",
    "df.head()"
   ]
  },
  {
   "cell_type": "code",
   "execution_count": 21,
   "id": "nervous-action",
   "metadata": {},
   "outputs": [
    {
     "data": {
      "text/plain": [
       "array([[1.65315676, 1.65782658, 1.66063709, 1.65164755, 0.02234697],\n",
       "       [1.6540655 , 1.67741435, 1.67457302, 1.68088805, 0.01848915],\n",
       "       [1.68346153, 1.69461263, 1.68512057, 1.67671075, 0.0149512 ],\n",
       "       ...,\n",
       "       [1.93005414, 1.96343877, 1.9372395 , 1.91224398, 0.03608802],\n",
       "       [1.93266144, 1.95047459, 1.96007458, 1.95326122, 0.02386635],\n",
       "       [1.92788072, 1.94280614, 1.95997458, 1.93703669, 0.0236119 ]])"
      ]
     },
     "execution_count": 21,
     "metadata": {},
     "output_type": "execute_result"
    }
   ],
   "source": [
    "inputs = scaler.transform(df)\n",
    "inputs"
   ]
  },
  {
   "cell_type": "code",
   "execution_count": 22,
   "id": "appropriate-queen",
   "metadata": {},
   "outputs": [
    {
     "data": {
      "text/plain": [
       "((587, 60, 5), (587,))"
      ]
     },
     "execution_count": 22,
     "metadata": {},
     "output_type": "execute_result"
    }
   ],
   "source": [
    "X_test = []\n",
    "y_test = []\n",
    "\n",
    "for i in range(60, inputs.shape[0]):\n",
    "    X_test.append(inputs[i-60:i])\n",
    "    y_test.append(inputs[i, 0])\n",
    "\n",
    "X_test, y_test = np.array(X_test), np.array(y_test)\n",
    "X_test.shape, y_test.shape"
   ]
  },
  {
   "cell_type": "code",
   "execution_count": 23,
   "id": "likely-scale",
   "metadata": {},
   "outputs": [
    {
     "data": {
      "text/plain": [
       "array([8.18605127e-04, 8.17521128e-04, 8.32487534e-04, 8.20673293e-04,\n",
       "       1.21162615e-08])"
      ]
     },
     "execution_count": 23,
     "metadata": {},
     "output_type": "execute_result"
    }
   ],
   "source": [
    "y_pred = regressor.predict(X_test)\n",
    "scaler.scale_"
   ]
  },
  {
   "cell_type": "code",
   "execution_count": 24,
   "id": "violent-crawford",
   "metadata": {},
   "outputs": [
    {
     "data": {
      "text/plain": [
       "1221.5901990069017"
      ]
     },
     "execution_count": 24,
     "metadata": {},
     "output_type": "execute_result"
    }
   ],
   "source": [
    "scale = 1/8.18605127e-04\n",
    "scale"
   ]
  },
  {
   "cell_type": "code",
   "execution_count": 25,
   "id": "aging-study",
   "metadata": {},
   "outputs": [],
   "source": [
    "y_pred = y_pred*scale\n",
    "y_test = y_test*scale"
   ]
  },
  {
   "cell_type": "code",
   "execution_count": 26,
   "id": "comparable-teddy",
   "metadata": {},
   "outputs": [
    {
     "data": {
      "image/png": "[encoded data removed]",
      "text/plain": [
       "<Figure size 1008x360 with 1 Axes>"
      ]
     },
     "metadata": {
      "needs_background": "light"
     },
     "output_type": "display_data"
    }
   ],
   "source": [
    "# Visualising the results\n",
    "plt.figure(figsize=(14,5))\n",
    "plt.plot(y_test, color = 'red', label = 'Real Google Stock Price')\n",
    "plt.plot(y_pred, color = 'blue', label = 'Predicted Google Stock Price')\n",
    "plt.title('Google Stock Price Prediction')\n",
    "plt.xlabel('Time')\n",
    "plt.ylabel('Google Stock Price')\n",
    "plt.legend()\n",
    "plt.show()"
   ]
  },
  {
   "cell_type": "code",
   "execution_count": null,
   "id": "adverse-austria",
   "metadata": {},
   "outputs": [],
   "source": []
  }
 ],
 "metadata": {
  "kernelspec": {
   "display_name": "Python 3",
   "language": "python",
   "name": "python3"
  },
  "language_info": {
   "codemirror_mode": {
    "name": "ipython",
    "version": 3
   },
   "file_extension": ".py",
   "mimetype": "text/x-python",
   "name": "python",
   "nbconvert_exporter": "python",
   "pygments_lexer": "ipython3",
   "version": "3.9.1"
  }
 },
 "nbformat": 4,
 "nbformat_minor": 5
}
